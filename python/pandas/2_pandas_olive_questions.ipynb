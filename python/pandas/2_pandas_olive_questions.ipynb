#### Answers submitted by:  Casey Hess] 

#### Date:  [01/04/2019]  

------

# Python Part 3:  Pandas Exercises

------

## Q1:  Read in the libraries you need

```python
# Python 2 & 3 Compatibility
from __future__ import print_function, division
```

```python
# imports a library 'pandas', names it as 'pd'
import pandas as pd
import numpy as np
import matplotlib.pyplot as plt

from IPython.display import Image

# enables inline plots, without it plots don't show up in the notebook
%matplotlib inline
```

## Q2:  Set options in pandas so it displays `max_rows` to 10

```python
# set various options in pandas
pd.set_option('display.max_columns', None)
pd.set_option('display.max_rows', 10)
pd.set_option('display.precision', 3)
```

## Q3:  What versions of `Python` and `pandas` are you running?  



```python
print("Pandas version:",pd.__version__)
print("Numpy version:",np.__version__)
```

```
Pandas version: 0.23.4
Numpy version: 1.15.4
```



```python
# confirming which version of Python I am using
import sys
print("Python Version:", sys.version)
```

```
Python Version: 3.6.7 |Anaconda custom (64-bit)| (default, Oct 23 2018, 14:01:38) 
[GCC 4.2.1 Compatible Clang 4.0.1 (tags/RELEASE_401/final)]
```

## Q4:  Read in the "olive" dataset that is available in this folder

Description:  572 olive oil samples from 3 different regions (and 9 sub-regions) of Italy; for each sample the normalized concentrations of 8 fatty acids are given.  
Source:  http://www2.chemie.uni-erlangen.de/publications/ANN-book/datasets/oliveoil/

There are 3 regions: 

- South
- North
- Sardinia

There are 9 sub-regions (areas): 

- North Apulia
- South Apulia
- Calabria
- Sicily
- Inland
- Coastal Sardinia
- Umbria
- East
- West Liguria

Supplemental report:  http://www.public.iastate.edu/~dicook/stat503/05/cs-olive.pdf

```python
# read csv data into pandas dataframe
df = pd.read_csv('olive.csv', encoding="ISO-8859-1")
```

## Q5:  How many rows and columns are in this dataframe?

```python
df.shape
```



```
(572, 11)
```



## Q6:  Print the first 4 rows of the data

```python
df.head(4)
```



<div>
<style scoped>
    .dataframe tbody tr th:only-of-type {
        vertical-align: middle;
    }

```
.dataframe tbody tr th {
    vertical-align: top;
}

.dataframe thead th {
    text-align: right;
}
```

</style>

<table border="1" class="dataframe">
  <thead>
    <tr style="text-align: right;">
      <th></th>
      <th>Unnamed: 0</th>
      <th>region</th>
      <th>area</th>
      <th>palmitic</th>
      <th>palmitoleic</th>
      <th>stearic</th>
      <th>oleic</th>
      <th>linoleic</th>
      <th>linolenic</th>
      <th>arachidic</th>
      <th>eicosenoic</th>
    </tr>
  </thead>
  <tbody>
    <tr>
      <th>0</th>
      <td>1.North-Apulia</td>
      <td>1</td>
      <td>1</td>
      <td>1075</td>
      <td>75</td>
      <td>226</td>
      <td>7823</td>
      <td>672</td>
      <td>36</td>
      <td>60</td>
      <td>29</td>
    </tr>
    <tr>
      <th>1</th>
      <td>2.North-Apulia</td>
      <td>1</td>
      <td>1</td>
      <td>1088</td>
      <td>73</td>
      <td>224</td>
      <td>7709</td>
      <td>781</td>
      <td>31</td>
      <td>61</td>
      <td>29</td>
    </tr>
    <tr>
      <th>2</th>
      <td>3.North-Apulia</td>
      <td>1</td>
      <td>1</td>
      <td>911</td>
      <td>54</td>
      <td>246</td>
      <td>8113</td>
      <td>549</td>
      <td>31</td>
      <td>63</td>
      <td>29</td>
    </tr>
    <tr>
      <th>3</th>
      <td>4.North-Apulia</td>
      <td>1</td>
      <td>1</td>
      <td>966</td>
      <td>57</td>
      <td>240</td>
      <td>7952</td>
      <td>619</td>
      <td>50</td>
      <td>78</td>
      <td>35</td>
    </tr>
  </tbody>
</table>

</div>



## Q7:  How many different data types are in this dataframe, and what are the data types?

```python
df.describe()
df.dtypes
```



```
Unnamed: 0     object
region          int64
area            int64
palmitic        int64
palmitoleic     int64
                ...  
oleic           int64
linoleic        int64
linolenic       int64
arachidic       int64
eicosenoic      int64
Length: 11, dtype: object
```



## Q8:  Create a new column

### Copy the column to:  'Unnamed: 0' to 'sub_region_raw'

```python
df['sub_region_raw'] = df['Unnamed: 0']
```

## Q9:  Rename a column

### 'Unnamed: 0' to:  'sub_region_desc'

```python
df['sub_region_desc'] = df['Unnamed: 0']
```

## Q10:  Rename the column 'area' to:  'sub_region'

```python
 df['sub_region'] = df['area']
```

## Q11:  How many unique values of 'region' are there?

Hint:  the answer should be 3

```python
df['region'].describe()
```



```
count    572.000
mean       1.699
std        0.860
min        1.000
25%        1.000
50%        1.000
75%        3.000
max        3.000
Name: region, dtype: float64
```



## Q12:  How many unique values of 'sub_region' are there?

Hint:  the answer should be 9

```python
 df['sub_region'].describe()
```



```
count    572.000
mean       4.600
std        2.357
min        1.000
25%        3.000
50%        3.000
75%        7.000
max        9.000
Name: sub_region, dtype: float64
```



## Q13:  How many unique values of 'sub_region_desc' are there?

Hint:  we would like the answer to be 9, but here's where we run into some messy data

```python
  df['sub_region_desc'].describe()
```



```
count                     572
unique                    572
top       409.Inland-Sardinia
freq                        1
Name: sub_region_desc, dtype: object
```



## Q14:  Looks like 'sub_region_desc' has line numbers attached to the beginning of region name.  We need to do some data cleaning.  Can you remove them?  

```
 	region 	sub_region 	palmitic 	palmitoleic 	stearic 	oleic 	linoleic 	linolenic 	arachidic 	eicosenoic 	sub_region_raw
sub_region_desc 											
1.North-Apulia 	1 	1 	1 	1 	1 	1 	1 	1 	1 	1 	1
10.North-Apulia 	1 	1 	1 	1 	1 	1 	1 	1 	1 	1 	1
100.South-Apulia 	1 	1 	1 	1 	1 	1 	1 	1 	1 	1 	1
101.South-Apulia 	1 	1 	1 	1 	1 	1 	1 	1 	1 	1 	1
102.South-Apulia 	1 	1 	1 	1 	1 	1 	1 	1 	1 	1 	1
```

Hint:  check out this link
http://stackoverflow.com/questions/39583264/pandas-strip-numbers-and-parenthesis-from-string



```python
 # remove the line numbers in the column sub_region_desc
df['sub_region_desc'] = df['sub_region_desc'].str.replace(r'[\(\)\d]+', '')
```

```python
df.head(5)
```



<div>
<style scoped>
    .dataframe tbody tr th:only-of-type {
        vertical-align: middle;
    }

```
.dataframe tbody tr th {
    vertical-align: top;
}

.dataframe thead th {
    text-align: right;
}
```

</style>

<table border="1" class="dataframe">
  <thead>
    <tr style="text-align: right;">
      <th></th>
      <th>Unnamed: 0</th>
      <th>region</th>
      <th>area</th>
      <th>palmitic</th>
      <th>palmitoleic</th>
      <th>stearic</th>
      <th>oleic</th>
      <th>linoleic</th>
      <th>linolenic</th>
      <th>arachidic</th>
      <th>eicosenoic</th>
      <th>sub_region_desc</th>
      <th>sub_region_raw</th>
      <th>sub_region</th>
    </tr>
  </thead>
  <tbody>
    <tr>
      <th>0</th>
      <td>1.North-Apulia</td>
      <td>1</td>
      <td>1</td>
      <td>1075</td>
      <td>75</td>
      <td>226</td>
      <td>7823</td>
      <td>672</td>
      <td>36</td>
      <td>60</td>
      <td>29</td>
      <td>North-Apulia</td>
      <td>1.North-Apulia</td>
      <td>1</td>
    </tr>
    <tr>
      <th>1</th>
      <td>2.North-Apulia</td>
      <td>1</td>
      <td>1</td>
      <td>1088</td>
      <td>73</td>
      <td>224</td>
      <td>7709</td>
      <td>781</td>
      <td>31</td>
      <td>61</td>
      <td>29</td>
      <td>North-Apulia</td>
      <td>2.North-Apulia</td>
      <td>1</td>
    </tr>
    <tr>
      <th>2</th>
      <td>3.North-Apulia</td>
      <td>1</td>
      <td>1</td>
      <td>911</td>
      <td>54</td>
      <td>246</td>
      <td>8113</td>
      <td>549</td>
      <td>31</td>
      <td>63</td>
      <td>29</td>
      <td>North-Apulia</td>
      <td>3.North-Apulia</td>
      <td>1</td>
    </tr>
    <tr>
      <th>3</th>
      <td>4.North-Apulia</td>
      <td>1</td>
      <td>1</td>
      <td>966</td>
      <td>57</td>
      <td>240</td>
      <td>7952</td>
      <td>619</td>
      <td>50</td>
      <td>78</td>
      <td>35</td>
      <td>North-Apulia</td>
      <td>4.North-Apulia</td>
      <td>1</td>
    </tr>
    <tr>
      <th>4</th>
      <td>5.North-Apulia</td>
      <td>1</td>
      <td>1</td>
      <td>1051</td>
      <td>67</td>
      <td>259</td>
      <td>7771</td>
      <td>672</td>
      <td>50</td>
      <td>80</td>
      <td>46</td>
      <td>North-Apulia</td>
      <td>5.North-Apulia</td>
      <td>1</td>
    </tr>
  </tbody>
</table>

</div>



```python
 
```

```python
#df.head()
```

```python
 
```

```python
#df.head()
```

## Q15:  Try again:  How many unique values of 'sub_region_desc' are there?

Hint:  you should see 9 of them!

```python
df['sub_region_desc'].describe()
```



```
count              572
unique               9
top       South-Apulia
freq               206
Name: sub_region_desc, dtype: object
```



## Q16:   Create a horizontal frequency barplot for 'region'

```python
 df['region'].value_counts().plot('barh')
```



```
<matplotlib.axes._subplots.AxesSubplot at 0x11a846470>
```



![png](output_40_1.png)

## Q17:   Create a horizontal frequency barplot for 'sub_region'

```python
 df['sub_region'].value_counts().plot('barh')

```



```
<matplotlib.axes._subplots.AxesSubplot at 0x11a80b5c0>
```



![png](output_42_1.png)

## Q18:   Create a horizontal frequency barplot for 'sub_region_desc'

```python
 df['sub_region_desc'].value_counts().plot('barh')
```



```
<matplotlib.axes._subplots.AxesSubplot at 0x11a824e48>
```



![png](output_44_1.png)

